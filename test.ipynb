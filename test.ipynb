{
 "cells": [
  {
   "cell_type": "code",
   "execution_count": 1,
   "metadata": {},
   "outputs": [],
   "source": [
    "import numpy as np\n",
    "import pyecharts as pec"
   ]
  },
  {
   "cell_type": "code",
   "execution_count": 2,
   "metadata": {},
   "outputs": [
    {
     "name": "stdout",
     "output_type": "stream",
     "text": [
      "[[-60, 34], [26, -46], [90, -8], [14, 64], [60, -30], [-5, 19], [-36, 86], [-3, -13], [-70, 77], [20, 9], [-61, -24], [-42, 30], [-32, 43], [-85, -67], [81, 22], [-52, -93], [69, 35], [-39, -78], [-88, -56], [77, -72]] [[59, 52], [88, 73], [21, 28], [23, 37], [55, 7], [51, 73], [9, 71], [53, 56], [90, 37], [97, 19], [41, 78], [19, 47], [42, 12], [98, 70], [12, 18], [70, 18], [18, 97], [51, 35], [99, 21], [48, 52]]\n"
     ]
    }
   ],
   "source": [
    "d1 = np.random.randint(-100, 100, [20, 2]).tolist()\n",
    "d2 = np.random.randint(0, 100, [20, 2]).tolist()\n",
    "print(d1, d2)"
   ]
  },
  {
   "cell_type": "code",
   "execution_count": 3,
   "metadata": {},
   "outputs": [
    {
     "ename": "TypeError",
     "evalue": "add_dataset() got an unexpected keyword argument 'transform'",
     "output_type": "error",
     "traceback": [
      "\u001b[1;31m---------------------------------------------------------------------------\u001b[0m",
      "\u001b[1;31mTypeError\u001b[0m                                 Traceback (most recent call last)",
      "\u001b[1;32m<ipython-input-3-1446d5cee4cd>\u001b[0m in \u001b[0;36m<module>\u001b[1;34m\u001b[0m\n\u001b[0;32m      1\u001b[0m l1 = (\n\u001b[1;32m----> 2\u001b[1;33m     pec.charts.Scatter(\n\u001b[0m\u001b[0;32m      3\u001b[0m         \u001b[0minit_opts\u001b[0m\u001b[1;33m=\u001b[0m\u001b[0mpec\u001b[0m\u001b[1;33m.\u001b[0m\u001b[0moptions\u001b[0m\u001b[1;33m.\u001b[0m\u001b[0mInitOpts\u001b[0m\u001b[1;33m(\u001b[0m\u001b[0mtheme\u001b[0m\u001b[1;33m=\u001b[0m\u001b[0mpec\u001b[0m\u001b[1;33m.\u001b[0m\u001b[0mglobals\u001b[0m\u001b[1;33m.\u001b[0m\u001b[0mThemeType\u001b[0m\u001b[1;33m.\u001b[0m\u001b[0mVINTAGE\u001b[0m\u001b[1;33m)\u001b[0m\u001b[1;33m\u001b[0m\u001b[1;33m\u001b[0m\u001b[0m\n\u001b[0;32m      4\u001b[0m     )\n\u001b[0;32m      5\u001b[0m     .add_dataset(\n",
      "\u001b[1;31mTypeError\u001b[0m: add_dataset() got an unexpected keyword argument 'transform'"
     ]
    }
   ],
   "source": [
    "l1 = (\n",
    "    pec.charts.Scatter(\n",
    "        init_opts=pec.options.InitOpts(theme=pec.globals.ThemeType.VINTAGE)\n",
    "    )\n",
    "    .add_dataset(\n",
    "        source=d2,\n",
    "    )\n",
    "    .add_transform(\n",
    "        transform={\"type\": \"ecStat:regression\", \"config\": {\"method\": \"exponential\"}},\n",
    "    )\n",
    "    .add_yaxis(\n",
    "        series_name=\"\",\n",
    "        y_axis=[],\n",
    "        symbol_size=6,\n",
    "        xaxis_index=0,\n",
    "        yaxis_index=0,\n",
    "        encode={\"x\": \"Income\", \"y\": \"Life Expectancy\", \"tooltip\": [0, 1, 2, 3, 4]},\n",
    "        label_opts=pec.options.LabelOpts(is_show=False),\n",
    "    )\n",
    ")\n",
    "l1.render()\n"
   ]
  },
  {
   "cell_type": "code",
   "execution_count": null,
   "metadata": {},
   "outputs": [],
   "source": []
  }
 ],
 "metadata": {
  "interpreter": {
   "hash": "9f9585b1252dd2ff583032a45d06ebf6801bf0d1a3ae887468fb788875480964"
  },
  "kernelspec": {
   "display_name": "Python 3.9.8 64-bit",
   "language": "python",
   "name": "python3"
  },
  "language_info": {
   "codemirror_mode": {
    "name": "ipython",
    "version": 3
   },
   "file_extension": ".py",
   "mimetype": "text/x-python",
   "name": "python",
   "nbconvert_exporter": "python",
   "pygments_lexer": "ipython3",
   "version": "3.9.8"
  },
  "orig_nbformat": 4
 },
 "nbformat": 4,
 "nbformat_minor": 2
}
